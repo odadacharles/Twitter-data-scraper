{
 "cells": [
  {
   "cell_type": "code",
   "execution_count": 1,
   "id": "355a1339",
   "metadata": {},
   "outputs": [],
   "source": [
    "#import the relevant libraries\n",
    "import csv\n",
    "from getpass import getpass\n",
    "from time import sleep\n",
    "from selenium.webdriver.common.keys import Keys\n",
    "from selenium.common.exceptions import NoSuchElementException\n",
    "from msedge.selenium_tools import Edge, EdgeOptions\n",
    "from selenium.webdriver.common.action_chains import ActionChains"
   ]
  },
  {
   "cell_type": "code",
   "execution_count": 2,
   "id": "c94b6a4a",
   "metadata": {},
   "outputs": [],
   "source": [
    "#initialize the options and driver variables\n",
    "options = EdgeOptions()\n",
    "options.use_chromium = True\n",
    "driver=Edge(options=options)"
   ]
  },
  {
   "cell_type": "code",
   "execution_count": 3,
   "id": "b295b63b",
   "metadata": {},
   "outputs": [],
   "source": [
    "#Open the twitter login page\n",
    "driver.get('https://www.twitter.com/login')"
   ]
  },
  {
   "cell_type": "code",
   "execution_count": 5,
   "id": "c66daf66",
   "metadata": {},
   "outputs": [],
   "source": [
    "#Enter the username and press enter\n",
    "username = driver.find_element_by_xpath('//input[@name=\"username\"]')\n",
    "username.send_keys('candyphysics@yahoo.com')\n",
    "username.send_keys(Keys.RETURN)"
   ]
  },
  {
   "cell_type": "code",
   "execution_count": 7,
   "id": "174e894f",
   "metadata": {},
   "outputs": [],
   "source": [
    "#If required, verify the user by entering the username or phone no.\n",
    "username_ver = driver.find_element_by_xpath('//input[@name=\"text\"]')\n",
    "username_ver.send_keys('@thewitsguy')\n",
    "username_ver.send_keys(Keys.RETURN)"
   ]
  },
  {
   "cell_type": "code",
   "execution_count": 6,
   "id": "e2b15d65",
   "metadata": {},
   "outputs": [
    {
     "name": "stdout",
     "output_type": "stream",
     "text": [
      "········\n"
     ]
    }
   ],
   "source": [
    "#input twitter password using getpass\n",
    "my_password = getpass()"
   ]
  },
  {
   "cell_type": "code",
   "execution_count": null,
   "id": "f148b724",
   "metadata": {},
   "outputs": [],
   "source": []
  },
  {
   "cell_type": "code",
   "execution_count": 8,
   "id": "9534c615",
   "metadata": {},
   "outputs": [],
   "source": [
    "#Enter the password in twitter\n",
    "password = driver.find_element_by_xpath('//input[@name=\"password\"]')\n",
    "password.send_keys(my_password)\n",
    "password.send_keys(Keys.RETURN)"
   ]
  },
  {
   "cell_type": "code",
   "execution_count": 18,
   "id": "be334a94",
   "metadata": {},
   "outputs": [],
   "source": [
    "#Find the search function and doubleclick twice (4 times total). This will select all the text that may already be there\n",
    "#Input the word(s) to be searched using send_keys and press enter\n",
    "search_input = driver.find_element_by_xpath('//input[@aria-label=\"Search query\"]')\n",
    "actionChains = ActionChains(driver)\n",
    "actionChains.double_click(search_input).perform()\n",
    "actionChains.double_click(search_input).perform()\n",
    "search_input.send_keys(\"Real Madrid\")\n",
    "search_input.send_keys(Keys.RETURN)"
   ]
  },
  {
   "cell_type": "code",
   "execution_count": 19,
   "id": "f10bb5d7",
   "metadata": {},
   "outputs": [],
   "source": [
    "#Click the 'top' or 'Latest' buttons depending on the order of results you'd like\n",
    "driver.find_element_by_link_text('Top').click()"
   ]
  },
  {
   "cell_type": "code",
   "execution_count": 20,
   "id": "7d5f1779",
   "metadata": {},
   "outputs": [],
   "source": [
    "#Save all tweets that have been loaded to the page\n",
    "cards = driver.find_elements_by_xpath('//article[@data-testid=\"tweet\"]')"
   ]
  },
  {
   "cell_type": "code",
   "execution_count": 33,
   "id": "96a684a0",
   "metadata": {},
   "outputs": [],
   "source": [
    "#Pick an individual tweet and assign it a variable\n",
    "card = cards[2]"
   ]
  },
  {
   "cell_type": "code",
   "execution_count": 34,
   "id": "69aefcbe",
   "metadata": {},
   "outputs": [
    {
     "data": {
      "text/plain": [
       "''"
      ]
     },
     "execution_count": 34,
     "metadata": {},
     "output_type": "execute_result"
    }
   ],
   "source": [
    "#Find the the username using xpath and return the text associated with it\n",
    "card.find_element_by_xpath('.//span').text"
   ]
  },
  {
   "cell_type": "code",
   "execution_count": 35,
   "id": "9a51025e",
   "metadata": {},
   "outputs": [
    {
     "data": {
      "text/plain": [
       "'@Asensii20'"
      ]
     },
     "execution_count": 35,
     "metadata": {},
     "output_type": "execute_result"
    }
   ],
   "source": [
    "#Find the twitter handle using xpath and return the text associated with it. Can be found by looking at text containing the \"@\" symbol\n",
    "card.find_element_by_xpath('.//span[contains(text(),\"@\")]').text"
   ]
  },
  {
   "cell_type": "code",
   "execution_count": 36,
   "id": "ffdea2b1",
   "metadata": {},
   "outputs": [
    {
     "data": {
      "text/plain": [
       "'2021-11-11T16:41:53.000Z'"
      ]
     },
     "execution_count": 36,
     "metadata": {},
     "output_type": "execute_result"
    }
   ],
   "source": [
    "#Get the date when the tweet was posted\n",
    "card.find_element_by_xpath('.//time').get_attribute('datetime')"
   ]
  },
  {
   "cell_type": "code",
   "execution_count": 37,
   "id": "3f4d813a",
   "metadata": {},
   "outputs": [],
   "source": [
    "#Return the tweeted text\n",
    "tweet_txt = card.find_element_by_xpath('.//div/div/div/div[2]/div[2]/div[2]/div/div').text"
   ]
  },
  {
   "cell_type": "code",
   "execution_count": 38,
   "id": "c251c54a",
   "metadata": {},
   "outputs": [
    {
     "data": {
      "text/plain": [
       "'The GOAT player in each position played for Real Madrid..'"
      ]
     },
     "execution_count": 38,
     "metadata": {},
     "output_type": "execute_result"
    }
   ],
   "source": [
    "tweet_txt"
   ]
  },
  {
   "cell_type": "code",
   "execution_count": null,
   "id": "912be940",
   "metadata": {},
   "outputs": [],
   "source": []
  },
  {
   "cell_type": "code",
   "execution_count": null,
   "id": "a43178aa",
   "metadata": {},
   "outputs": [],
   "source": []
  }
 ],
 "metadata": {
  "kernelspec": {
   "display_name": "Python 3",
   "language": "python",
   "name": "python3"
  },
  "language_info": {
   "codemirror_mode": {
    "name": "ipython",
    "version": 3
   },
   "file_extension": ".py",
   "mimetype": "text/x-python",
   "name": "python",
   "nbconvert_exporter": "python",
   "pygments_lexer": "ipython3",
   "version": "3.8.8"
  }
 },
 "nbformat": 4,
 "nbformat_minor": 5
}
